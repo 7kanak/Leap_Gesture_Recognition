{
  "nbformat": 4,
  "nbformat_minor": 0,
  "metadata": {
    "colab": {
      "name": "tensorflow_resnet50_99_95.ipynb",
      "version": "0.3.2",
      "provenance": [],
      "collapsed_sections": [],
      "include_colab_link": true
    },
    "kernelspec": {
      "name": "python3",
      "display_name": "Python 3"
    },
    "accelerator": "GPU"
  },
  "cells": [
    {
      "cell_type": "markdown",
      "metadata": {
        "id": "view-in-github",
        "colab_type": "text"
      },
      "source": [
        "<a href=\"https://colab.research.google.com/github/7kanak/Leap_Gesture_Recognition/blob/master/tensorflow_resnet50_99_95.ipynb\" target=\"_parent\"><img src=\"https://colab.research.google.com/assets/colab-badge.svg\" alt=\"Open In Colab\"/></a>"
      ]
    },
    {
      "metadata": {
        "id": "LZjQHyu4Ap-6",
        "colab_type": "code",
        "outputId": "5f7ce421-7888-4c3f-8e4d-a5786271b9a6",
        "colab": {
          "base_uri": "https://localhost:8080/",
          "height": 34
        }
      },
      "cell_type": "code",
      "source": [
        "from google.colab import drive\n",
        "drive.mount(\"/content/drive\")"
      ],
      "execution_count": 0,
      "outputs": [
        {
          "output_type": "stream",
          "text": [
            "Drive already mounted at /content/drive; to attempt to forcibly remount, call drive.mount(\"/content/drive\", force_remount=True).\n"
          ],
          "name": "stdout"
        }
      ]
    },
    {
      "metadata": {
        "id": "vKYI4-hHAzZ3",
        "colab_type": "code",
        "colab": {}
      },
      "cell_type": "code",
      "source": [
        "import tensorflow as tf\n",
        "from tensorflow import keras\n",
        "import matplotlib.image as mpimg\n",
        "import os\n",
        "import time\n",
        "import numpy as np\n",
        "import matplotlib.pyplot as plt\n",
        "import PIL\n",
        "from IPython.display import clear_output"
      ],
      "execution_count": 0,
      "outputs": []
    },
    {
      "metadata": {
        "id": "BvfbrqTgCcrN",
        "colab_type": "code",
        "colab": {}
      },
      "cell_type": "code",
      "source": [
        "tf.enable_eager_execution()"
      ],
      "execution_count": 0,
      "outputs": []
    },
    {
      "metadata": {
        "id": "i1wFTJvqFTfr",
        "colab_type": "code",
        "colab": {}
      },
      "cell_type": "code",
      "source": [
        "os.chdir(\"/content/drive/My Drive/Projects/Gesturec/data/leapGestRecog/\")"
      ],
      "execution_count": 0,
      "outputs": []
    },
    {
      "metadata": {
        "id": "g_2zigWWFTcs",
        "colab_type": "code",
        "colab": {}
      },
      "cell_type": "code",
      "source": [
        "classes = os.listdir()"
      ],
      "execution_count": 0,
      "outputs": []
    },
    {
      "metadata": {
        "id": "_1MKE7SULp36",
        "colab_type": "code",
        "outputId": "53c23519-1f85-4b9a-9bf4-654755222086",
        "colab": {
          "base_uri": "https://localhost:8080/",
          "height": 187
        }
      },
      "cell_type": "code",
      "source": [
        "classes"
      ],
      "execution_count": 0,
      "outputs": [
        {
          "output_type": "execute_result",
          "data": {
            "text/plain": [
              "['01_palm',\n",
              " '09_c',\n",
              " '10_down',\n",
              " '08_palm_moved',\n",
              " '04_fist_moved',\n",
              " '07_ok',\n",
              " '02_l',\n",
              " '05_thumb',\n",
              " '03_fist',\n",
              " '06_index']"
            ]
          },
          "metadata": {
            "tags": []
          },
          "execution_count": 51
        }
      ]
    },
    {
      "metadata": {
        "id": "oPxR8ZqWTwAT",
        "colab_type": "code",
        "colab": {}
      },
      "cell_type": "code",
      "source": [
        "int_classes = list(range(len(classes)))"
      ],
      "execution_count": 0,
      "outputs": []
    },
    {
      "metadata": {
        "id": "ZfipxJ-eT3zh",
        "colab_type": "code",
        "outputId": "296e3509-8563-44e0-bb1a-cae6dc3d6973",
        "colab": {
          "base_uri": "https://localhost:8080/",
          "height": 34
        }
      },
      "cell_type": "code",
      "source": [
        "int_classes"
      ],
      "execution_count": 0,
      "outputs": [
        {
          "output_type": "execute_result",
          "data": {
            "text/plain": [
              "[0, 1, 2, 3, 4, 5, 6, 7, 8, 9]"
            ]
          },
          "metadata": {
            "tags": []
          },
          "execution_count": 53
        }
      ]
    },
    {
      "metadata": {
        "id": "cJQEyN9RFrKr",
        "colab_type": "code",
        "colab": {}
      },
      "cell_type": "code",
      "source": [
        "filenames = []\n",
        "labels = []\n",
        "for idx,gesture in enumerate(classes):\n",
        "  tmp = os.listdir(gesture)\n",
        "  tmp = [gesture+\"/\"+i for i in tmp]\n",
        "  filenames = filenames + tmp\n",
        "  labels = labels + [idx]*(len(tmp))"
      ],
      "execution_count": 0,
      "outputs": []
    },
    {
      "metadata": {
        "id": "3LJ9VkkWUJyZ",
        "colab_type": "code",
        "outputId": "ba6a9fcd-35ba-41c4-fbc5-ad43145a6ad4",
        "colab": {
          "base_uri": "https://localhost:8080/",
          "height": 119
        }
      },
      "cell_type": "code",
      "source": [
        "filenames[-5:],labels[-5:]"
      ],
      "execution_count": 0,
      "outputs": [
        {
          "output_type": "execute_result",
          "data": {
            "text/plain": [
              "(['06_index/frame_04_06_0196.png',\n",
              "  '06_index/frame_04_06_0197.png',\n",
              "  '06_index/frame_04_06_0198.png',\n",
              "  '06_index/frame_05_06_0007.png',\n",
              "  '06_index/frame_04_06_0199.png'],\n",
              " [9, 9, 9, 9, 9])"
            ]
          },
          "metadata": {
            "tags": []
          },
          "execution_count": 10
        }
      ]
    },
    {
      "metadata": {
        "id": "R_ygAkB1dPvB",
        "colab_type": "code",
        "colab": {}
      },
      "cell_type": "code",
      "source": [
        "from sklearn.model_selection import train_test_split"
      ],
      "execution_count": 0,
      "outputs": []
    },
    {
      "metadata": {
        "id": "leFcVCdYaq3Z",
        "colab_type": "code",
        "colab": {}
      },
      "cell_type": "code",
      "source": [
        "train_ds, val_ds, label_train, label_val = train_test_split(filenames, labels, test_size=0.2, random_state=42)"
      ],
      "execution_count": 0,
      "outputs": []
    },
    {
      "metadata": {
        "id": "pRlrunFsRuC6",
        "colab_type": "code",
        "outputId": "be2a0015-f440-468e-9586-6294cfb66f3c",
        "colab": {
          "base_uri": "https://localhost:8080/",
          "height": 34
        }
      },
      "cell_type": "code",
      "source": [
        "data_length = len(filenames);data_length"
      ],
      "execution_count": 0,
      "outputs": [
        {
          "output_type": "execute_result",
          "data": {
            "text/plain": [
              "20000"
            ]
          },
          "metadata": {
            "tags": []
          },
          "execution_count": 58
        }
      ]
    },
    {
      "metadata": {
        "id": "ZqPpiiyZSGRb",
        "colab_type": "code",
        "colab": {}
      },
      "cell_type": "code",
      "source": [
        "image_size = 224 # All images will be resized to 160x160\n",
        "batch_size = 32"
      ],
      "execution_count": 0,
      "outputs": []
    },
    {
      "metadata": {
        "id": "476rzY90K9_j",
        "colab_type": "code",
        "colab": {}
      },
      "cell_type": "code",
      "source": [
        "def tfdata_generator(filenames, labels, is_training=True, batch_size=32):\n",
        "    '''Construct a data generator using tf.Dataset'''\n",
        "\n",
        "    def parse_function(filename, label):\n",
        "      image_string = tf.read_file(filename)\n",
        "  \n",
        "      # Don't use tf.image.decode_image, or the output shape will be undefined\n",
        "      image = tf.image.decode_png(image_string, channels=3)\n",
        "  \n",
        "      # This will convert to float values in [0, 1]\n",
        "      image = tf.image.convert_image_dtype(image, tf.float32)\n",
        "  \n",
        "      image = tf.image.resize_images(image, [image_size, image_size])\n",
        "      \n",
        "      label = tf.one_hot(tf.cast(label, tf.uint8), 10)\n",
        "        \n",
        "      return image, label\n",
        "    \n",
        "    def train_preprocess(image, label):\n",
        "      image = tf.image.random_flip_left_right(image)\n",
        "      image = tf.image.random_brightness(image, max_delta=32.0 / 255.0)\n",
        "      image = tf.image.random_saturation(image, lower=0.5, upper=1.5)\n",
        "    \n",
        "        # Make sure the image is still in [0, 1]\n",
        "      image = tf.clip_by_value(image, 0.0, 1.0)\n",
        "    \n",
        "      return image, label\n",
        "\n",
        "    dataset = tf.data.Dataset.from_tensor_slices((filenames, labels))\n",
        "    if is_training:\n",
        "        dataset = dataset.shuffle(len(filenames))  # depends on sample size\n",
        "        \n",
        "    dataset = dataset.map(parse_function, num_parallel_calls=4)\n",
        "    dataset = dataset.map(train_preprocess, num_parallel_calls=4)\n",
        "    dataset = dataset.batch(batch_size,drop_remainder=True if is_training else False)\n",
        "    \n",
        "    dataset = dataset.repeat()\n",
        "    dataset = dataset.prefetch(tf.contrib.data.AUTOTUNE)\n",
        "\n",
        "    return dataset"
      ],
      "execution_count": 0,
      "outputs": []
    },
    {
      "metadata": {
        "id": "x2-GOOz_K97E",
        "colab_type": "code",
        "colab": {}
      },
      "cell_type": "code",
      "source": [
        "training_set = tfdata_generator(train_ds, label_train)\n",
        "testing_set  = tfdata_generator(val_ds, label_val, is_training=False)"
      ],
      "execution_count": 0,
      "outputs": []
    },
    {
      "metadata": {
        "id": "7tQxZ5X-GhDq",
        "colab_type": "code",
        "outputId": "4fa536e9-8036-49f7-cbc7-194887579312",
        "colab": {
          "base_uri": "https://localhost:8080/",
          "height": 71
        }
      },
      "cell_type": "code",
      "source": [
        "IMG_SHAPE = (image_size, image_size, 3)\n",
        "\n",
        "# Create the base model from the pre-trained model MobileNet V2\n",
        "base_model = tf.keras.applications.ResNet50(input_shape=IMG_SHAPE,include_top=False,  weights='imagenet')"
      ],
      "execution_count": 0,
      "outputs": [
        {
          "output_type": "stream",
          "text": [
            "/usr/local/lib/python3.6/dist-packages/keras_applications/resnet50.py:265: UserWarning: The output shape of `ResNet50(include_top=False)` has been changed since Keras 2.2.0.\n",
            "  warnings.warn('The output shape of `ResNet50(include_top=False)` '\n"
          ],
          "name": "stderr"
        }
      ]
    },
    {
      "metadata": {
        "id": "yktcflmAFo0W",
        "colab_type": "code",
        "colab": {}
      },
      "cell_type": "code",
      "source": [
        "base_model.trainable = False"
      ],
      "execution_count": 0,
      "outputs": []
    },
    {
      "metadata": {
        "id": "yxkvWXnQFoxL",
        "colab_type": "code",
        "colab": {}
      },
      "cell_type": "code",
      "source": [
        "model = tf.keras.Sequential([\n",
        "  base_model,\n",
        "  keras.layers.GlobalAveragePooling2D(),\n",
        "  keras.layers.Dense(10, activation='softmax')\n",
        "])"
      ],
      "execution_count": 0,
      "outputs": []
    },
    {
      "metadata": {
        "id": "G3wnYRF_AYEH",
        "colab_type": "code",
        "outputId": "3f44005b-e0e2-4f19-b226-90a4f95b836c",
        "colab": {
          "base_uri": "https://localhost:8080/",
          "height": 238
        }
      },
      "cell_type": "code",
      "source": [
        "model.summary()"
      ],
      "execution_count": 0,
      "outputs": [
        {
          "output_type": "stream",
          "text": [
            "_________________________________________________________________\n",
            "Layer (type)                 Output Shape              Param #   \n",
            "=================================================================\n",
            "resnet50 (Model)             (None, 7, 7, 2048)        23587712  \n",
            "_________________________________________________________________\n",
            "global_average_pooling2d_3 ( (None, 2048)              0         \n",
            "_________________________________________________________________\n",
            "dense_3 (Dense)              (None, 10)                20490     \n",
            "=================================================================\n",
            "Total params: 23,608,202\n",
            "Trainable params: 20,490\n",
            "Non-trainable params: 23,587,712\n",
            "_________________________________________________________________\n"
          ],
          "name": "stdout"
        }
      ]
    },
    {
      "metadata": {
        "id": "X2q7EySRKV1Y",
        "colab_type": "code",
        "outputId": "afb34ad9-9a6d-4723-8ff4-d27b2f71b6f9",
        "colab": {
          "base_uri": "https://localhost:8080/",
          "height": 34
        }
      },
      "cell_type": "code",
      "source": [
        "len(model.trainable_variables)"
      ],
      "execution_count": 0,
      "outputs": [
        {
          "output_type": "execute_result",
          "data": {
            "text/plain": [
              "2"
            ]
          },
          "metadata": {
            "tags": []
          },
          "execution_count": 84
        }
      ]
    },
    {
      "metadata": {
        "id": "70qktT83Md8H",
        "colab_type": "code",
        "colab": {}
      },
      "cell_type": "code",
      "source": [
        "model.compile('adam', 'categorical_crossentropy', metrics=['acc'])"
      ],
      "execution_count": 0,
      "outputs": []
    },
    {
      "metadata": {
        "id": "e9C0X82OMd5Y",
        "colab_type": "code",
        "outputId": "48263c6e-b799-482d-90db-90d8365637d2",
        "colab": {
          "base_uri": "https://localhost:8080/",
          "height": 289
        }
      },
      "cell_type": "code",
      "source": [
        "model.fit(\n",
        "      training_set.make_one_shot_iterator(),\n",
        "      steps_per_epoch=16000 // 32,\n",
        "      epochs=5,\n",
        "      validation_data=testing_set.make_one_shot_iterator(),\n",
        "      validation_steps=4000 //32,\n",
        "      verbose = 1)"
      ],
      "execution_count": 0,
      "outputs": [
        {
          "output_type": "stream",
          "text": [
            "Epoch 1/5\n",
            "125/125 [==============================] - 39s 310ms/step - loss: 3.1156 - acc: 0.1357\n",
            "500/500 [==============================] - 202s 404ms/step - loss: 0.2670 - acc: 0.9458 - val_loss: 3.1156 - val_acc: 0.1357\n",
            "Epoch 2/5\n",
            "125/125 [==============================] - 37s 298ms/step - loss: 0.5274 - acc: 0.8395\n",
            "500/500 [==============================] - 199s 397ms/step - loss: 0.0412 - acc: 0.9953 - val_loss: 0.5274 - val_acc: 0.8395\n",
            "Epoch 3/5\n",
            "125/125 [==============================] - 37s 299ms/step - loss: 0.0359 - acc: 0.9945\n",
            "500/500 [==============================] - 199s 398ms/step - loss: 0.0231 - acc: 0.9969 - val_loss: 0.0359 - val_acc: 0.9945\n",
            "Epoch 4/5\n",
            "125/125 [==============================] - 37s 295ms/step - loss: 0.0071 - acc: 0.9995\n",
            "500/500 [==============================] - 200s 399ms/step - loss: 0.0153 - acc: 0.9978 - val_loss: 0.0071 - val_acc: 0.9995\n",
            "Epoch 5/5\n",
            "125/125 [==============================] - 37s 295ms/step - loss: 0.0055 - acc: 0.9995\n",
            "500/500 [==============================] - 198s 396ms/step - loss: 0.0108 - acc: 0.9987 - val_loss: 0.0055 - val_acc: 0.9995\n"
          ],
          "name": "stdout"
        },
        {
          "output_type": "execute_result",
          "data": {
            "text/plain": [
              "<tensorflow.python.keras.callbacks.History at 0x7fc5e49840b8>"
            ]
          },
          "metadata": {
            "tags": []
          },
          "execution_count": 86
        }
      ]
    },
    {
      "metadata": {
        "id": "jf_b490VTe-p",
        "colab_type": "code",
        "outputId": "2e5a63ce-6ed0-44b7-bbad-3baa71d651bd",
        "colab": {
          "base_uri": "https://localhost:8080/",
          "height": 139
        }
      },
      "cell_type": "code",
      "source": [
        "model.save_weights('./checkpoints/leap_resnet50')\n"
      ],
      "execution_count": 0,
      "outputs": [
        {
          "output_type": "stream",
          "text": [
            "WARNING:tensorflow:This model was compiled with a Keras optimizer (<tensorflow.python.keras.optimizers.Adam object at 0x7fc5e664c780>) but is being saved in TensorFlow format with `save_weights`. The model's weights will be saved, but unlike with TensorFlow optimizers in the TensorFlow format the optimizer's state will not be saved.\n",
            "\n",
            "Consider using a TensorFlow optimizer from `tf.train`.\n",
            "WARNING:tensorflow:From /usr/local/lib/python3.6/dist-packages/tensorflow/python/keras/engine/network.py:1436: update_checkpoint_state (from tensorflow.python.training.checkpoint_management) is deprecated and will be removed in a future version.\n",
            "Instructions for updating:\n",
            "Use tf.train.CheckpointManager to manage checkpoints rather than manually editing the Checkpoint proto.\n"
          ],
          "name": "stdout"
        }
      ]
    },
    {
      "metadata": {
        "id": "TGft_GetTymY",
        "colab_type": "code",
        "outputId": "8f0662e3-5488-452d-859a-dbc3c137d143",
        "colab": {
          "base_uri": "https://localhost:8080/",
          "height": 34
        }
      },
      "cell_type": "code",
      "source": [
        "checkpoint_dir = '../../data/'\n",
        "os.makedirs(checkpoint_dir, exist_ok=True)\n",
        "checkpoint_prefix = os.path.join(checkpoint_dir, \"ckpt\")\n",
        "root = tf.train.Checkpoint(optimizer=optimizer,\n",
        "                           model=model,\n",
        "                           optimizer_step=tf.train.get_or_create_global_step())\n",
        "\n",
        "root.save(checkpoint_prefix)"
      ],
      "execution_count": 0,
      "outputs": [
        {
          "output_type": "execute_result",
          "data": {
            "text/plain": [
              "'../../data/ckpt-1'"
            ]
          },
          "metadata": {
            "tags": []
          },
          "execution_count": 128
        }
      ]
    },
    {
      "metadata": {
        "id": "LD6NQ1gDUF5m",
        "colab_type": "code",
        "colab": {}
      },
      "cell_type": "code",
      "source": [
        "for a,b in val_dataset.take(-1):\n",
        "  prediction = model.predict(a,steps=1)\n",
        "  res = tf.argmax(tf.nn.softmax(prediction),axis=1)"
      ],
      "execution_count": 0,
      "outputs": []
    },
    {
      "metadata": {
        "id": "OprgGBrNUSkD",
        "colab_type": "code",
        "outputId": "7c66e0d3-5ed2-47d7-8054-79e9a41cc8bc",
        "colab": {
          "base_uri": "https://localhost:8080/",
          "height": 85
        }
      },
      "cell_type": "code",
      "source": [
        "res.numpy() == b.numpy()"
      ],
      "execution_count": 0,
      "outputs": [
        {
          "output_type": "execute_result",
          "data": {
            "text/plain": [
              "array([ True,  True,  True,  True,  True,  True,  True,  True,  True,\n",
              "        True,  True,  True,  True,  True,  True,  True,  True,  True,\n",
              "        True,  True,  True,  True,  True,  True,  True,  True,  True,\n",
              "        True,  True,  True,  True,  True])"
            ]
          },
          "metadata": {
            "tags": []
          },
          "execution_count": 122
        }
      ]
    },
    {
      "metadata": {
        "id": "jsa7_aIsRPJb",
        "colab_type": "code",
        "outputId": "da9d43ec-1b46-4550-b85a-a2990fb2bc38",
        "colab": {
          "base_uri": "https://localhost:8080/",
          "height": 68
        }
      },
      "cell_type": "code",
      "source": [
        "b"
      ],
      "execution_count": 0,
      "outputs": [
        {
          "output_type": "execute_result",
          "data": {
            "text/plain": [
              "<tf.Tensor: id=96335, shape=(32,), dtype=int32, numpy=\n",
              "array([3, 8, 8, 3, 4, 8, 0, 1, 9, 2, 9, 5, 1, 4, 8, 4, 4, 5, 0, 5, 7, 4,\n",
              "       9, 6, 2, 7, 6, 2, 5, 9, 5, 5], dtype=int32)>"
            ]
          },
          "metadata": {
            "tags": []
          },
          "execution_count": 119
        }
      ]
    },
    {
      "metadata": {
        "id": "FNRcUpoOUZJj",
        "colab_type": "code",
        "colab": {}
      },
      "cell_type": "code",
      "source": [
        "??model.predict"
      ],
      "execution_count": 0,
      "outputs": []
    },
    {
      "metadata": {
        "id": "GxtAHJkkUbAp",
        "colab_type": "code",
        "colab": {}
      },
      "cell_type": "code",
      "source": [
        ""
      ],
      "execution_count": 0,
      "outputs": []
    }
  ]
}